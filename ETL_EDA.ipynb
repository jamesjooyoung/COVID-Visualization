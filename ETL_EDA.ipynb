{
 "cells": [
  {
   "cell_type": "markdown",
   "metadata": {},
   "source": [
    "# ETL_EDA\n",
    "This file records the process of acquiring raw data, traforming them, and loading them into a MongoDB. The data are store (almost) in their raw form."
   ]
  },
  {
   "cell_type": "markdown",
   "metadata": {},
   "source": [
    "## 1. Raw Data from BPA \n",
    "The [dataset](https://transmission.bpa.gov/business/operations/Wind/baltwg.txt) is a continuously updated txt file in csv format. It contains the energy producation and load in the last 5 days. There will be some blank lines at the end for today. It can be retrieved simply by making `requests` without parameters. For more complicated API call, you may need to add query parameters."
   ]
  },
  {
   "cell_type": "code",
   "execution_count": 2,
   "metadata": {},
   "outputs": [
    {
     "name": "stdout",
     "output_type": "stream",
     "text": [
      "submission_date,state,tot_cases,conf_cases,prob_cases,new_case,pnew_case,tot_death,conf_death,prob_death,new_death,pnew_death,created_at,consent_cases,consent_deaths\n",
      "03/11/2021,KS,297229,241035,56194,0,0,4851,,,0,0,03/12/2021 03:20:13 PM,Agree,N/A\n",
      "06/11/2021,TX,2965966,,,1463,355,51158,,,17,0,06/13/2021 12:00:00 AM,Not agree,Not agree\n",
      "02/04/2020,AR,0,,,0,,0,,,0,,03/26/2020 04:22:39 PM,Not agree,Not agree\n",
      "10/18/2020,FL,744773,,,1740,201,17499,,,60,4,10/18/2020 12:00:00 AM,Not agree,Not agree\n",
      "08/12/2020,AS,0,,,0,0,0,,,0,0,08/13/2020 02:12:28 PM,,\n",
      "06/05/2020,HI,661,,,8,0,17,,,0,0,06/06/2020 10:31:37 AM,Not agree,Not agree\n",
      "07/27/2021,AK,71521,,,235,0,377,,,0,0,07/28/2021 01:51:39 PM,N/A,N/A\n",
      "10/26/2021,HI,80876,,,69,10,883,,,0,0,10/27/2021 02:21:35 PM,Not agree,Not agree\n",
      "04/21/2020,KS,2025,2025,0,39,0,107,,,7,0,04/21/2020 04:22:39 PM,Agree,N/A\n",
      "05/27/2021,NYC,948436,782257,166179,394,95,33203,28130,5073,6,0,05/25/2021 12:00:00 AM,Agree,Agree\n",
      "09/14/2021,AS,0,,,0,0,0,,,0,0,09/15/2021 02:35:57 \n",
      "...\n",
      "ee,Not agree\n",
      "04/06/2020,TN,3660,3651,9,312,1,44,44,0,1,0,04/05/2020 12:00:00 AM,Agree,Agree\n",
      "09/12/2021,IA,423850,,,1341,287,6337,,,0,0,09/13/2021 02:26:59 PM,Not agree,Not agree\n",
      "03/08/2020,OH,0,,,0,,0,,,0,,03/26/2020 04:22:39 PM,Agree,Agree\n",
      "04/30/2021,SD,122660,,,128,17,1967,1601,366,5,1,05/01/2021 01:43:22 PM,N/A,Agree\n",
      "03/10/2021,SD,113962,,,209,37,1904,1546,358,3,0,03/11/2021 03:36:21 PM,N/A,Agree\n",
      "05/27/2021,OH,1100312,921199,179113,732,196,19753,19753,0,0,0,05/28/2021 01:29:21 PM,Agree,Agree\n",
      "\n"
     ]
    }
   ],
   "source": [
    "import requests\n",
    "\n",
    "url = \"https://data.cdc.gov/api/views/9mfq-cb36/rows.csv?accessType=DOWNLOAD\"\n",
    "req = requests.get(url, timeout=0.5)\n",
    "req.raise_for_status()\n",
    "text = req.text\n",
    "print(text[:1000])\n",
    "print('...')\n",
    "print(text[-500:])"
   ]
  },
  {
   "cell_type": "markdown",
   "metadata": {},
   "source": [
    "## 2. Raw Data to Documents/Dicts\n",
    "Using pandas, it is simple to parse a in-memory string. The first few lines of description need to be skipped. Datetime conversion is made and blank lines are dropped. Now the data can be easily converted to a list of dicts which is what we want for the MongoDB."
   ]
  },
  {
   "cell_type": "code",
   "execution_count": 2,
   "metadata": {},
   "outputs": [
    {
     "data": {
      "text/html": [
       "<div>\n",
       "<style scoped>\n",
       "    .dataframe tbody tr th:only-of-type {\n",
       "        vertical-align: middle;\n",
       "    }\n",
       "\n",
       "    .dataframe tbody tr th {\n",
       "        vertical-align: top;\n",
       "    }\n",
       "\n",
       "    .dataframe thead th {\n",
       "        text-align: right;\n",
       "    }\n",
       "</style>\n",
       "<table border=\"1\" class=\"dataframe\">\n",
       "  <thead>\n",
       "    <tr style=\"text-align: right;\">\n",
       "      <th></th>\n",
       "      <th>state</th>\n",
       "      <th>tot_cases</th>\n",
       "      <th>new_case</th>\n",
       "      <th>pnew_case</th>\n",
       "      <th>Datetime</th>\n",
       "    </tr>\n",
       "  </thead>\n",
       "  <tbody>\n",
       "    <tr>\n",
       "      <th>0</th>\n",
       "      <td>KS</td>\n",
       "      <td>297229</td>\n",
       "      <td>0</td>\n",
       "      <td>0.0</td>\n",
       "      <td>2021-03-12 15:20:13</td>\n",
       "    </tr>\n",
       "    <tr>\n",
       "      <th>1</th>\n",
       "      <td>TX</td>\n",
       "      <td>2965966</td>\n",
       "      <td>1463</td>\n",
       "      <td>355.0</td>\n",
       "      <td>2021-06-13 00:00:00</td>\n",
       "    </tr>\n",
       "    <tr>\n",
       "      <th>3</th>\n",
       "      <td>FL</td>\n",
       "      <td>744773</td>\n",
       "      <td>1740</td>\n",
       "      <td>201.0</td>\n",
       "      <td>2020-10-18 00:00:00</td>\n",
       "    </tr>\n",
       "    <tr>\n",
       "      <th>4</th>\n",
       "      <td>AS</td>\n",
       "      <td>0</td>\n",
       "      <td>0</td>\n",
       "      <td>0.0</td>\n",
       "      <td>2020-08-13 14:12:28</td>\n",
       "    </tr>\n",
       "    <tr>\n",
       "      <th>5</th>\n",
       "      <td>HI</td>\n",
       "      <td>661</td>\n",
       "      <td>8</td>\n",
       "      <td>0.0</td>\n",
       "      <td>2020-06-06 10:31:37</td>\n",
       "    </tr>\n",
       "  </tbody>\n",
       "</table>\n",
       "</div>"
      ],
      "text/plain": [
       "  state  tot_cases  new_case  pnew_case            Datetime\n",
       "0    KS     297229         0        0.0 2021-03-12 15:20:13\n",
       "1    TX    2965966      1463      355.0 2021-06-13 00:00:00\n",
       "3    FL     744773      1740      201.0 2020-10-18 00:00:00\n",
       "4    AS          0         0        0.0 2020-08-13 14:12:28\n",
       "5    HI        661         8        0.0 2020-06-06 10:31:37"
      ]
     },
     "execution_count": 2,
     "metadata": {},
     "output_type": "execute_result"
    }
   ],
   "source": [
    "import pandas as pd\n",
    "from io import StringIO\n",
    "\n",
    "df = pd.read_csv(StringIO(text), usecols=[\"pnew_case\", \"new_case\", \"tot_cases\", \"state\", \"created_at\"], delimiter = ',')\n",
    "df.columns = df.columns.str.strip()             # remove space in columns name\n",
    "df['Datetime'] = pd.to_datetime(df['created_at'])\n",
    "#df.submission_date = pd.to_datetime(df['submission_date'])\n",
    "df.drop(columns=['created_at'], axis=1, inplace=True)\n",
    "df.dropna(inplace=True)  \n",
    "df.head()"
   ]
  },
  {
   "cell_type": "code",
   "execution_count": 3,
   "metadata": {},
   "outputs": [
    {
     "data": {
      "text/plain": [
       "array(['KS', 'TX', 'FL', 'AS', 'HI', 'AK', 'NYC', 'PW', 'GA', 'MA', 'CO',\n",
       "       'OK', 'PR', 'WV', 'UT', 'MP', 'AR', 'NM', 'RMI', 'NY', 'SD', 'OH',\n",
       "       'PA', 'IA', 'TN', 'ND', 'CA', 'IL', 'DE', 'WI', 'NC', 'NV', 'IN',\n",
       "       'CT', 'AL', 'MO', 'MD', 'ID', 'MI', 'GU', 'VT', 'WA', 'NE', 'VI',\n",
       "       'MS', 'NH', 'ME', 'MT', 'FSM', 'NJ', 'DC', 'RI', 'MN', 'AZ', 'SC',\n",
       "       'KY', 'WY', 'OR', 'LA', 'VA'], dtype=object)"
      ]
     },
     "execution_count": 3,
     "metadata": {},
     "output_type": "execute_result"
    }
   ],
   "source": [
    "df.state.unique()"
   ]
  },
  {
   "cell_type": "code",
   "execution_count": 4,
   "metadata": {},
   "outputs": [],
   "source": [
    "ca_df = df[df.state == \"CA\"]\n",
    "me_df = df[df.state == \"ME\"]\n",
    "ms_df = df[df.state == \"MS\"]\n",
    "nh_df = df[df.state == \"NH\"]\n",
    "nd_df = df[df.state == \"ND\"]\n",
    "gu_df = df[df.state == \"GU\"]\n",
    "ne_df = df[df.state == \"NE\"]\n",
    "ct_df = df[df.state == \"CT\"]\n",
    "wi_df = df[df.state == \"WI\"]\n",
    "nc_df = df[df.state == \"NC\"]\n",
    "al_df = df[df.state == \"AL\"]\n",
    "mo_df = df[df.state == \"MO\"]\n",
    "il_df = df[df.state == \"IL\"]\n",
    "nv_df = df[df.state == \"NV\"]\n",
    "mi_df = df[df.state == \"MI\"]\n",
    "in_df = df[df.state == \"IN\"]\n",
    "wa_df = df[df.state == \"WA\"]\n",
    "vt_df = df[df.state == \"VT\"]\n",
    "md_df = df[df.state == \"MD\"]\n",
    "de_df = df[df.state == \"DE\"]\n",
    "mt_df = df[df.state == \"MT\"]\n",
    "vi_df = df[df.state == \"VI\"]\n",
    "id_df = df[df.state == \"ID\"]\n",
    "la_df = df[df.state == \"LA\"]\n",
    "dc_df = df[df.state == \"DC\"]\n",
    "nj_df = df[df.state == \"NJ\"]\n",
    "ri_df = df[df.state == \"RI\"]\n",
    "mn_df = df[df.state == \"MN\"]\n",
    "az_df = df[df.state == \"AZ\"]\n",
    "fsm_df = df[df.state == \"FSM\"]\n",
    "sc_df = df[df.state == \"SC\"]\n",
    "ky_df = df[df.state == \"KY\"]\n",
    "or_df = df[df.state == \"OR\"]\n",
    "va_df = df[df.state == \"VA\"]\n",
    "wy_df = df[df.state == \"WY\"]\n",
    "ut_df = df[df.state == \"UT\"]\n",
    "co_df = df[df.state == \"CO\"]\n",
    "ar_df = df[df.state == \"AR\"]\n",
    "pw_df = df[df.state == \"PW\"]\n",
    "mp_df = df[df.state == \"MP\"]\n",
    "ma_df = df[df.state == \"MA\"]\n",
    "pr_df = df[df.state == \"PR\"]\n",
    "ga_df = df[df.state == \"GA\"]\n",
    "nyc_df = df[df.state == \"NYC\"]\n",
    "as_df = df[df.state == \"AS\"]\n",
    "ok_df = df[df.state == \"OK\"]\n",
    "ak_df = df[df.state == \"AK\"]\n",
    "ks_df = df[df.state == \"KS\"]\n",
    "tx_df = df[df.state == \"TX\"]\n",
    "fl_df = df[df.state == \"FL\"]\n",
    "wv_df = df[df.state == \"WV\"]\n",
    "hi_df = df[df.state == \"HI\"]\n",
    "tn_df = df[df.state == \"TN\"]\n",
    "pa_df = df[df.state == \"PA\"]\n",
    "ia_df = df[df.state == \"IA\"]\n",
    "oh_df = df[df.state == \"OH\"]\n",
    "rmi_df = df[df.state == \"RMI\"]\n",
    "sd_df = df[df.state == \"SD\"]\n",
    "ny_df = df[df.state == \"NY\"]\n",
    "nm_df = df[df.state == \"NM\"]"
   ]
  },
  {
   "cell_type": "code",
   "execution_count": 5,
   "metadata": {},
   "outputs": [
    {
     "name": "stdout",
     "output_type": "stream",
     "text": [
      "number of rows:  37339\n",
      "number of columns:  5\n",
      "state                object\n",
      "tot_cases             int64\n",
      "new_case              int64\n",
      "pnew_case           float64\n",
      "Datetime     datetime64[ns]\n",
      "dtype: object\n"
     ]
    }
   ],
   "source": [
    "# prints the number of rows\n",
    "print('number of rows: ' , df.shape[0])\n",
    "# prints the number of columns\n",
    "print('number of columns: ' , df.shape[1])\n",
    "\n",
    "# prints data types of all columns\n",
    "print(df.dtypes)"
   ]
  },
  {
   "cell_type": "code",
   "execution_count": 6,
   "metadata": {},
   "outputs": [],
   "source": [
    "cat_ftrs = ['state', 'consent_cases', 'consent_deaths']\n",
    "\n",
    "ss_ftrs = ['tot_cases', 'conf_cases', 'prob_cases', 'new_case', 'pnew_case', 'tot_death', 'conf_death', 'prob_death', 'new_death', 'pnew_death']\n",
    "\n",
    "dates = ['submission_date', 'created_at']"
   ]
  },
  {
   "cell_type": "code",
   "execution_count": 7,
   "metadata": {},
   "outputs": [
    {
     "data": {
      "text/html": [
       "<div>\n",
       "<style scoped>\n",
       "    .dataframe tbody tr th:only-of-type {\n",
       "        vertical-align: middle;\n",
       "    }\n",
       "\n",
       "    .dataframe tbody tr th {\n",
       "        vertical-align: top;\n",
       "    }\n",
       "\n",
       "    .dataframe thead th {\n",
       "        text-align: right;\n",
       "    }\n",
       "</style>\n",
       "<table border=\"1\" class=\"dataframe\">\n",
       "  <thead>\n",
       "    <tr style=\"text-align: right;\">\n",
       "      <th></th>\n",
       "      <th>tot_cases</th>\n",
       "      <th>new_case</th>\n",
       "      <th>pnew_case</th>\n",
       "    </tr>\n",
       "  </thead>\n",
       "  <tbody>\n",
       "    <tr>\n",
       "      <th>count</th>\n",
       "      <td>3.733900e+04</td>\n",
       "      <td>37339.000000</td>\n",
       "      <td>37339.000000</td>\n",
       "    </tr>\n",
       "    <tr>\n",
       "      <th>mean</th>\n",
       "      <td>3.711840e+05</td>\n",
       "      <td>1313.225903</td>\n",
       "      <td>183.529045</td>\n",
       "    </tr>\n",
       "    <tr>\n",
       "      <th>std</th>\n",
       "      <td>6.239225e+05</td>\n",
       "      <td>2650.261426</td>\n",
       "      <td>521.707113</td>\n",
       "    </tr>\n",
       "    <tr>\n",
       "      <th>min</th>\n",
       "      <td>0.000000e+00</td>\n",
       "      <td>-10199.000000</td>\n",
       "      <td>-10733.000000</td>\n",
       "    </tr>\n",
       "    <tr>\n",
       "      <th>25%</th>\n",
       "      <td>1.741750e+04</td>\n",
       "      <td>80.000000</td>\n",
       "      <td>0.000000</td>\n",
       "    </tr>\n",
       "    <tr>\n",
       "      <th>50%</th>\n",
       "      <td>1.343030e+05</td>\n",
       "      <td>452.000000</td>\n",
       "      <td>4.000000</td>\n",
       "    </tr>\n",
       "    <tr>\n",
       "      <th>75%</th>\n",
       "      <td>4.784450e+05</td>\n",
       "      <td>1430.000000</td>\n",
       "      <td>147.000000</td>\n",
       "    </tr>\n",
       "    <tr>\n",
       "      <th>max</th>\n",
       "      <td>5.133238e+06</td>\n",
       "      <td>61016.000000</td>\n",
       "      <td>16591.000000</td>\n",
       "    </tr>\n",
       "  </tbody>\n",
       "</table>\n",
       "</div>"
      ],
      "text/plain": [
       "          tot_cases      new_case     pnew_case\n",
       "count  3.733900e+04  37339.000000  37339.000000\n",
       "mean   3.711840e+05   1313.225903    183.529045\n",
       "std    6.239225e+05   2650.261426    521.707113\n",
       "min    0.000000e+00 -10199.000000 -10733.000000\n",
       "25%    1.741750e+04     80.000000      0.000000\n",
       "50%    1.343030e+05    452.000000      4.000000\n",
       "75%    4.784450e+05   1430.000000    147.000000\n",
       "max    5.133238e+06  61016.000000  16591.000000"
      ]
     },
     "execution_count": 7,
     "metadata": {},
     "output_type": "execute_result"
    }
   ],
   "source": [
    "df.describe()"
   ]
  },
  {
   "cell_type": "code",
   "execution_count": 8,
   "metadata": {},
   "outputs": [
    {
     "name": "stdout",
     "output_type": "stream",
     "text": [
      "count    3.733900e+04\n",
      "mean     3.711840e+05\n",
      "std      6.239225e+05\n",
      "min      0.000000e+00\n",
      "25%      1.741750e+04\n",
      "50%      1.343030e+05\n",
      "75%      4.784450e+05\n",
      "max      5.133238e+06\n",
      "Name: tot_cases, dtype: float64\n"
     ]
    },
    {
     "data": {
      "image/png": "[encoded data removed]",
      "text/plain": [
       "<Figure size 432x288 with 1 Axes>"
      ]
     },
     "metadata": {
      "needs_background": "light"
     },
     "output_type": "display_data"
    },
    {
     "name": "stdout",
     "output_type": "stream",
     "text": [
      "count    37339.000000\n",
      "mean      1313.225903\n",
      "std       2650.261426\n",
      "min     -10199.000000\n",
      "25%         80.000000\n",
      "50%        452.000000\n",
      "75%       1430.000000\n",
      "max      61016.000000\n",
      "Name: new_case, dtype: float64\n"
     ]
    },
    {
     "data": {
      "image/png": "[encoded data removed]",
      "text/plain": [
       "<Figure size 432x288 with 1 Axes>"
      ]
     },
     "metadata": {
      "needs_background": "light"
     },
     "output_type": "display_data"
    },
    {
     "name": "stdout",
     "output_type": "stream",
     "text": [
      "count    37339.000000\n",
      "mean       183.529045\n",
      "std        521.707113\n",
      "min     -10733.000000\n",
      "25%          0.000000\n",
      "50%          4.000000\n",
      "75%        147.000000\n",
      "max      16591.000000\n",
      "Name: pnew_case, dtype: float64\n"
     ]
    },
    {
     "data": {
      "image/png": "[encoded data removed]",
      "text/plain": [
       "<Figure size 432x288 with 1 Axes>"
      ]
     },
     "metadata": {
      "needs_background": "light"
     },
     "output_type": "display_data"
    }
   ],
   "source": [
    "import matplotlib\n",
    "from matplotlib import pylab as plt\n",
    "\n",
    "#histograms/bar charts of all features\n",
    "columns = df.columns\n",
    "for col in columns:\n",
    "    if col in ss_ftrs:\n",
    "        print(df[col].describe())\n",
    "        df[col].plot.hist()\n",
    "        plt.xlabel(col)\n",
    "        plt.ylabel('count')\n",
    "        plt.show()"
   ]
  },
  {
   "cell_type": "markdown",
   "metadata": {},
   "source": [
    "## 3. Upsert MongoDB\n",
    "If we fetch the data frequently, there are lots of duplicate data entry between each run. The de-duplication happens at insertion. The MongoDB API to use is `collection.replace_one(filter=..., replacement=..., upsert=True)`. The statement matches a document in MongoDB with `filter`, replaces it with `replacement` if the document exists or inserts `replacement` into the database if `filter` matches nothing. "
   ]
  },
  {
   "cell_type": "code",
   "execution_count": 9,
   "metadata": {},
   "outputs": [],
   "source": [
    "import pymongo\n",
    "\n",
    "client = pymongo.MongoClient()"
   ]
  },
  {
   "cell_type": "code",
   "execution_count": 10,
   "metadata": {},
   "outputs": [
    {
     "name": "stdout",
     "output_type": "stream",
     "text": [
      "rows=37339, update=645, insert=36694\n"
     ]
    }
   ],
   "source": [
    "db = client.get_database(\"corona\")\n",
    "collections = [\"ca\",\n",
    "\"me\",\n",
    "\"ms\",\n",
    "\"nh\",\n",
    "\"nd\",\n",
    "\"gu\",\n",
    "\"ne\",\n",
    "\"ct\",\n",
    "\"wi\",\n",
    "\"nc\",\n",
    "\"al\",\n",
    "\"mo\",\n",
    "\"il\",\n",
    "\"nv\",\n",
    "\"mi\",\n",
    "\"in\",\n",
    "\"wa\",\n",
    "\"vt\",\n",
    "\"md\",\n",
    "\"de\",\n",
    "\"mt\",\n",
    "\"vi\",\n",
    "\"id\",\n",
    "\"la\",\n",
    "\"dc\",\n",
    "\"nj\",\n",
    "\"ri\",\n",
    "\"mn\",\n",
    "\"az\",\n",
    "\"fsm\",\n",
    "\"sc\",\n",
    "\"ky\",\n",
    "\"or\",\n",
    "\"va\",\n",
    "\"wy\",\n",
    "\"ut\",\n",
    "\"co\",\n",
    "\"ar\",\n",
    "\"pw\",\n",
    "\"mp\",\n",
    "\"ma\",\n",
    "\"pr\",\n",
    "\"ga\",\n",
    "\"nyc\",\n",
    "\"as\",\n",
    "\"ok\",\n",
    "\"ak\",\n",
    "\"ks\",\n",
    "\"tx\",\n",
    "\"fl\",\n",
    "\"wv\",\n",
    "\"hi\",\n",
    "\"tn\",\n",
    "\"pa\",\n",
    "\"ia\",\n",
    "\"oh\",\n",
    "\"rmi\",\n",
    "\"sd\",\n",
    "\"ny\",\n",
    "\"nm\"]\n",
    "\n",
    "state_df = [ca_df,\n",
    "me_df,\n",
    "ms_df,\n",
    "nh_df,\n",
    "nd_df,\n",
    "gu_df,\n",
    "ne_df,\n",
    "ct_df,\n",
    "wi_df,\n",
    "nc_df,\n",
    "al_df,\n",
    "mo_df,\n",
    "il_df,\n",
    "nv_df,\n",
    "mi_df,\n",
    "in_df,\n",
    "wa_df,\n",
    "vt_df,\n",
    "md_df,\n",
    "de_df,\n",
    "mt_df,\n",
    "vi_df,\n",
    "id_df,\n",
    "la_df,\n",
    "dc_df,\n",
    "nj_df,\n",
    "ri_df,\n",
    "mn_df,\n",
    "az_df,\n",
    "fsm_df,\n",
    "sc_df,\n",
    "ky_df,\n",
    "or_df,\n",
    "va_df,\n",
    "wy_df,\n",
    "ut_df,\n",
    "co_df,\n",
    "ar_df,\n",
    "pw_df,\n",
    "mp_df,\n",
    "ma_df,\n",
    "pr_df,\n",
    "ga_df,\n",
    "nyc_df,\n",
    "as_df,\n",
    "ok_df,\n",
    "ak_df,\n",
    "ks_df,\n",
    "tx_df,\n",
    "fl_df,\n",
    "wv_df,\n",
    "hi_df,\n",
    "tn_df,\n",
    "pa_df,\n",
    "ia_df,\n",
    "oh_df,\n",
    "rmi_df,\n",
    "sd_df,\n",
    "ny_df,\n",
    "nm_df]\n",
    "\n",
    "for x, y in zip(collections, state_df):\n",
    "    collection = db.get_collection(x)\n",
    "    update_count = 0\n",
    "    for record in y.to_dict('records'):\n",
    "        result = collection.replace_one(\n",
    "            filter={'Datetime': record['Datetime']},    # locate the document if exists\n",
    "            replacement=record,                         # latest document\n",
    "            upsert=True)                                # update if exists, insert if not\n",
    "        if result.matched_count > 0:\n",
    "            update_count += 1\n",
    "print(f\"rows={df.shape[0]}, update={update_count}, \"\n",
    "      f\"insert={df.shape[0]-update_count}\")"
   ]
  },
  {
   "cell_type": "code",
   "execution_count": null,
   "metadata": {},
   "outputs": [],
   "source": []
  }
 ],
 "metadata": {
  "kernelspec": {
   "display_name": "Python 3",
   "language": "python",
   "name": "python3"
  },
  "language_info": {
   "codemirror_mode": {
    "name": "ipython",
    "version": 3
   },
   "file_extension": ".py",
   "mimetype": "text/x-python",
   "name": "python",
   "nbconvert_exporter": "python",
   "pygments_lexer": "ipython3",
   "version": "3.8.8"
  }
 },
 "nbformat": 4,
 "nbformat_minor": 1
}
